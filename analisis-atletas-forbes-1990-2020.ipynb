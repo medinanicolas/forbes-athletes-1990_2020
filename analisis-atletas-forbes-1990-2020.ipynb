{
 "cells": [
  {
   "cell_type": "markdown",
   "id": "463bb559",
   "metadata": {
    "id": "MjtvgYD0PAkC",
    "papermill": {
     "duration": 0.032475,
     "end_time": "2022-04-05T16:09:56.959849",
     "exception": false,
     "start_time": "2022-04-05T16:09:56.927374",
     "status": "completed"
    },
    "tags": []
   },
   "source": [
    "# Machine Learning SS 2021\n",
    "## Análisis exploratorio"
   ]
  },
  {
   "cell_type": "code",
   "execution_count": 1,
   "id": "b181006e",
   "metadata": {
    "execution": {
     "iopub.execute_input": "2022-04-05T16:09:57.035318Z",
     "iopub.status.busy": "2022-04-05T16:09:57.034574Z",
     "iopub.status.idle": "2022-04-05T16:09:58.025142Z",
     "shell.execute_reply": "2022-04-05T16:09:58.024481Z",
     "shell.execute_reply.started": "2022-04-05T16:03:53.534038Z"
    },
    "id": "k8bFa3-i5nrZ",
    "papermill": {
     "duration": 1.033569,
     "end_time": "2022-04-05T16:09:58.025329",
     "exception": false,
     "start_time": "2022-04-05T16:09:56.991760",
     "status": "completed"
    },
    "tags": []
   },
   "outputs": [],
   "source": [
    "# importamos las librerias necesarias\n",
    "import pandas as pd\n",
    "import numpy as np\n",
    "import matplotlib.pyplot as plt\n",
    "import seaborn as sns\n",
    "%matplotlib inline"
   ]
  },
  {
   "cell_type": "code",
   "execution_count": 2,
   "id": "4f264b38",
   "metadata": {
    "execution": {
     "iopub.execute_input": "2022-04-05T16:09:58.093052Z",
     "iopub.status.busy": "2022-04-05T16:09:58.092378Z",
     "iopub.status.idle": "2022-04-05T16:09:58.106254Z",
     "shell.execute_reply": "2022-04-05T16:09:58.105581Z",
     "shell.execute_reply.started": "2022-04-05T16:03:53.908118Z"
    },
    "id": "hce8PeG-5s1j",
    "papermill": {
     "duration": 0.049525,
     "end_time": "2022-04-05T16:09:58.106391",
     "exception": false,
     "start_time": "2022-04-05T16:09:58.056866",
     "status": "completed"
    },
    "tags": []
   },
   "outputs": [],
   "source": [
    "# dataframe desde un archivo csv de kaggle\n",
    "filename = open(\"../input/forbes-athletes-19902020/forbes.csv\", \"r\")\n",
    "df = pd.read_csv(filename)"
   ]
  },
  {
   "cell_type": "code",
   "execution_count": 3,
   "id": "a9763226",
   "metadata": {
    "execution": {
     "iopub.execute_input": "2022-04-05T16:09:58.177464Z",
     "iopub.status.busy": "2022-04-05T16:09:58.176798Z",
     "iopub.status.idle": "2022-04-05T16:09:58.191283Z",
     "shell.execute_reply": "2022-04-05T16:09:58.191801Z",
     "shell.execute_reply.started": "2022-04-05T16:03:53.919474Z"
    },
    "id": "C2w9Dq1J8aX-",
    "outputId": "5ffdcfa1-6f30-4674-e343-eb8f81652e1a",
    "papermill": {
     "duration": 0.053991,
     "end_time": "2022-04-05T16:09:58.191967",
     "exception": false,
     "start_time": "2022-04-05T16:09:58.137976",
     "status": "completed"
    },
    "tags": []
   },
   "outputs": [
    {
     "data": {
      "text/html": [
       "<div>\n",
       "<style scoped>\n",
       "    .dataframe tbody tr th:only-of-type {\n",
       "        vertical-align: middle;\n",
       "    }\n",
       "\n",
       "    .dataframe tbody tr th {\n",
       "        vertical-align: top;\n",
       "    }\n",
       "\n",
       "    .dataframe thead th {\n",
       "        text-align: right;\n",
       "    }\n",
       "</style>\n",
       "<table border=\"1\" class=\"dataframe\">\n",
       "  <thead>\n",
       "    <tr style=\"text-align: right;\">\n",
       "      <th></th>\n",
       "      <th>S.NO</th>\n",
       "      <th>Name</th>\n",
       "      <th>Nationality</th>\n",
       "      <th>Current Rank</th>\n",
       "      <th>Previous Year Rank</th>\n",
       "      <th>Sport</th>\n",
       "      <th>Year</th>\n",
       "      <th>earnings ($ million)</th>\n",
       "    </tr>\n",
       "  </thead>\n",
       "  <tbody>\n",
       "    <tr>\n",
       "      <th>0</th>\n",
       "      <td>1</td>\n",
       "      <td>Mike Tyson</td>\n",
       "      <td>USA</td>\n",
       "      <td>1</td>\n",
       "      <td>NaN</td>\n",
       "      <td>boxing</td>\n",
       "      <td>1990</td>\n",
       "      <td>28.6</td>\n",
       "    </tr>\n",
       "    <tr>\n",
       "      <th>1</th>\n",
       "      <td>2</td>\n",
       "      <td>Buster Douglas</td>\n",
       "      <td>USA</td>\n",
       "      <td>2</td>\n",
       "      <td>NaN</td>\n",
       "      <td>boxing</td>\n",
       "      <td>1990</td>\n",
       "      <td>26.0</td>\n",
       "    </tr>\n",
       "    <tr>\n",
       "      <th>2</th>\n",
       "      <td>3</td>\n",
       "      <td>Sugar Ray Leonard</td>\n",
       "      <td>USA</td>\n",
       "      <td>3</td>\n",
       "      <td>NaN</td>\n",
       "      <td>boxing</td>\n",
       "      <td>1990</td>\n",
       "      <td>13.0</td>\n",
       "    </tr>\n",
       "    <tr>\n",
       "      <th>3</th>\n",
       "      <td>4</td>\n",
       "      <td>Ayrton Senna</td>\n",
       "      <td>Brazil</td>\n",
       "      <td>4</td>\n",
       "      <td>NaN</td>\n",
       "      <td>auto racing</td>\n",
       "      <td>1990</td>\n",
       "      <td>10.0</td>\n",
       "    </tr>\n",
       "    <tr>\n",
       "      <th>4</th>\n",
       "      <td>5</td>\n",
       "      <td>Alain Prost</td>\n",
       "      <td>France</td>\n",
       "      <td>5</td>\n",
       "      <td>NaN</td>\n",
       "      <td>auto racing</td>\n",
       "      <td>1990</td>\n",
       "      <td>9.0</td>\n",
       "    </tr>\n",
       "  </tbody>\n",
       "</table>\n",
       "</div>"
      ],
      "text/plain": [
       "   S.NO               Name Nationality  Current Rank Previous Year Rank  \\\n",
       "0     1         Mike Tyson         USA             1                NaN   \n",
       "1     2     Buster Douglas         USA             2                NaN   \n",
       "2     3  Sugar Ray Leonard         USA             3                NaN   \n",
       "3     4       Ayrton Senna      Brazil             4                NaN   \n",
       "4     5        Alain Prost      France             5                NaN   \n",
       "\n",
       "         Sport  Year  earnings ($ million)  \n",
       "0       boxing  1990                  28.6  \n",
       "1       boxing  1990                  26.0  \n",
       "2       boxing  1990                  13.0  \n",
       "3  auto racing  1990                  10.0  \n",
       "4  auto racing  1990                   9.0  "
      ]
     },
     "execution_count": 3,
     "metadata": {},
     "output_type": "execute_result"
    }
   ],
   "source": [
    "# 5 primeras filas\n",
    "df.head()"
   ]
  },
  {
   "cell_type": "markdown",
   "id": "8ea7932a",
   "metadata": {
    "id": "C0NuifEGWMdh",
    "papermill": {
     "duration": 0.031693,
     "end_time": "2022-04-05T16:09:58.257256",
     "exception": false,
     "start_time": "2022-04-05T16:09:58.225563",
     "status": "completed"
    },
    "tags": []
   },
   "source": [
    "La columna \"Previous Year Tank\" presenta muchos datos nulos"
   ]
  },
  {
   "cell_type": "code",
   "execution_count": 4,
   "id": "66a1ad6f",
   "metadata": {
    "execution": {
     "iopub.execute_input": "2022-04-05T16:09:58.334082Z",
     "iopub.status.busy": "2022-04-05T16:09:58.326979Z",
     "iopub.status.idle": "2022-04-05T16:09:58.338105Z",
     "shell.execute_reply": "2022-04-05T16:09:58.337556Z",
     "shell.execute_reply.started": "2022-04-05T16:03:53.936088Z"
    },
    "id": "9gotKS338cQ4",
    "outputId": "3923b778-6e06-4b79-e300-93ca52d9757d",
    "papermill": {
     "duration": 0.048995,
     "end_time": "2022-04-05T16:09:58.338262",
     "exception": false,
     "start_time": "2022-04-05T16:09:58.289267",
     "status": "completed"
    },
    "tags": []
   },
   "outputs": [
    {
     "data": {
      "text/html": [
       "<div>\n",
       "<style scoped>\n",
       "    .dataframe tbody tr th:only-of-type {\n",
       "        vertical-align: middle;\n",
       "    }\n",
       "\n",
       "    .dataframe tbody tr th {\n",
       "        vertical-align: top;\n",
       "    }\n",
       "\n",
       "    .dataframe thead th {\n",
       "        text-align: right;\n",
       "    }\n",
       "</style>\n",
       "<table border=\"1\" class=\"dataframe\">\n",
       "  <thead>\n",
       "    <tr style=\"text-align: right;\">\n",
       "      <th></th>\n",
       "      <th>S.NO</th>\n",
       "      <th>Name</th>\n",
       "      <th>Nationality</th>\n",
       "      <th>Current Rank</th>\n",
       "      <th>Previous Year Rank</th>\n",
       "      <th>Sport</th>\n",
       "      <th>Year</th>\n",
       "      <th>earnings ($ million)</th>\n",
       "    </tr>\n",
       "  </thead>\n",
       "  <tbody>\n",
       "    <tr>\n",
       "      <th>296</th>\n",
       "      <td>297</td>\n",
       "      <td>Stephen Curry</td>\n",
       "      <td>USA</td>\n",
       "      <td>6</td>\n",
       "      <td>9</td>\n",
       "      <td>Basketball</td>\n",
       "      <td>2020</td>\n",
       "      <td>74.4</td>\n",
       "    </tr>\n",
       "    <tr>\n",
       "      <th>297</th>\n",
       "      <td>298</td>\n",
       "      <td>Kevin Durant</td>\n",
       "      <td>USA</td>\n",
       "      <td>7</td>\n",
       "      <td>10</td>\n",
       "      <td>Basketball</td>\n",
       "      <td>2020</td>\n",
       "      <td>63.9</td>\n",
       "    </tr>\n",
       "    <tr>\n",
       "      <th>298</th>\n",
       "      <td>299</td>\n",
       "      <td>Tiger Woods</td>\n",
       "      <td>USA</td>\n",
       "      <td>8</td>\n",
       "      <td>11</td>\n",
       "      <td>Golf</td>\n",
       "      <td>2020</td>\n",
       "      <td>62.3</td>\n",
       "    </tr>\n",
       "    <tr>\n",
       "      <th>299</th>\n",
       "      <td>300</td>\n",
       "      <td>Kirk Cousins</td>\n",
       "      <td>USA</td>\n",
       "      <td>9</td>\n",
       "      <td>&gt;100</td>\n",
       "      <td>American Football</td>\n",
       "      <td>2020</td>\n",
       "      <td>60.5</td>\n",
       "    </tr>\n",
       "    <tr>\n",
       "      <th>300</th>\n",
       "      <td>301</td>\n",
       "      <td>Carson Wentz</td>\n",
       "      <td>USA</td>\n",
       "      <td>10</td>\n",
       "      <td>&gt;100</td>\n",
       "      <td>American Football</td>\n",
       "      <td>2020</td>\n",
       "      <td>59.1</td>\n",
       "    </tr>\n",
       "  </tbody>\n",
       "</table>\n",
       "</div>"
      ],
      "text/plain": [
       "     S.NO           Name Nationality  Current Rank Previous Year Rank  \\\n",
       "296   297  Stephen Curry         USA             6                  9   \n",
       "297   298   Kevin Durant         USA             7                 10   \n",
       "298   299    Tiger Woods         USA             8                 11   \n",
       "299   300   Kirk Cousins         USA             9               >100   \n",
       "300   301   Carson Wentz         USA            10               >100   \n",
       "\n",
       "                 Sport  Year  earnings ($ million)  \n",
       "296         Basketball  2020                  74.4  \n",
       "297         Basketball  2020                  63.9  \n",
       "298               Golf  2020                  62.3  \n",
       "299  American Football  2020                  60.5  \n",
       "300  American Football  2020                  59.1  "
      ]
     },
     "execution_count": 4,
     "metadata": {},
     "output_type": "execute_result"
    }
   ],
   "source": [
    "# las ultimas\n",
    "df.tail()"
   ]
  },
  {
   "cell_type": "markdown",
   "id": "22223cb3",
   "metadata": {
    "id": "SD5_e6oKWRPp",
    "papermill": {
     "duration": 0.032893,
     "end_time": "2022-04-05T16:09:58.405949",
     "exception": false,
     "start_time": "2022-04-05T16:09:58.373056",
     "status": "completed"
    },
    "tags": []
   },
   "source": [
    "La columna mencionada no tiene sus últimos datos nulos"
   ]
  },
  {
   "cell_type": "code",
   "execution_count": 5,
   "id": "9a7e166a",
   "metadata": {
    "execution": {
     "iopub.execute_input": "2022-04-05T16:09:58.478788Z",
     "iopub.status.busy": "2022-04-05T16:09:58.478120Z",
     "iopub.status.idle": "2022-04-05T16:09:58.481755Z",
     "shell.execute_reply": "2022-04-05T16:09:58.481178Z",
     "shell.execute_reply.started": "2022-04-05T16:03:53.952994Z"
    },
    "id": "6UmswIVD8dMl",
    "outputId": "de7fbe1c-81e5-4659-9199-761863ab2e6c",
    "papermill": {
     "duration": 0.042539,
     "end_time": "2022-04-05T16:09:58.481897",
     "exception": false,
     "start_time": "2022-04-05T16:09:58.439358",
     "status": "completed"
    },
    "tags": []
   },
   "outputs": [
    {
     "data": {
      "text/plain": [
       "S.NO                      int64\n",
       "Name                     object\n",
       "Nationality              object\n",
       "Current Rank              int64\n",
       "Previous Year Rank       object\n",
       "Sport                    object\n",
       "Year                      int64\n",
       "earnings ($ million)    float64\n",
       "dtype: object"
      ]
     },
     "execution_count": 5,
     "metadata": {},
     "output_type": "execute_result"
    }
   ],
   "source": [
    "  # distintos tipos de datos\n",
    "  df.dtypes"
   ]
  },
  {
   "cell_type": "markdown",
   "id": "ca8a47d6",
   "metadata": {
    "id": "Z0YYyYBTWWVL",
    "papermill": {
     "duration": 0.032879,
     "end_time": "2022-04-05T16:09:58.547676",
     "exception": false,
     "start_time": "2022-04-05T16:09:58.514797",
     "status": "completed"
    },
    "tags": []
   },
   "source": [
    "Todos los tipos de datos parecen normales excepto por \"Previous Year Rank\" que aparece como \"Object\" por ser mayor o menor que cierto valor"
   ]
  },
  {
   "cell_type": "code",
   "execution_count": 6,
   "id": "7bbaa7c3",
   "metadata": {
    "execution": {
     "iopub.execute_input": "2022-04-05T16:09:58.629844Z",
     "iopub.status.busy": "2022-04-05T16:09:58.623278Z",
     "iopub.status.idle": "2022-04-05T16:09:58.648453Z",
     "shell.execute_reply": "2022-04-05T16:09:58.647888Z",
     "shell.execute_reply.started": "2022-04-05T16:03:53.962967Z"
    },
    "id": "jswTIguAMFpN",
    "outputId": "4517bfec-bf90-4ed8-936c-681ff6840dc5",
    "papermill": {
     "duration": 0.067719,
     "end_time": "2022-04-05T16:09:58.648601",
     "exception": false,
     "start_time": "2022-04-05T16:09:58.580882",
     "status": "completed"
    },
    "tags": []
   },
   "outputs": [
    {
     "data": {
      "text/html": [
       "<div>\n",
       "<style scoped>\n",
       "    .dataframe tbody tr th:only-of-type {\n",
       "        vertical-align: middle;\n",
       "    }\n",
       "\n",
       "    .dataframe tbody tr th {\n",
       "        vertical-align: top;\n",
       "    }\n",
       "\n",
       "    .dataframe thead th {\n",
       "        text-align: right;\n",
       "    }\n",
       "</style>\n",
       "<table border=\"1\" class=\"dataframe\">\n",
       "  <thead>\n",
       "    <tr style=\"text-align: right;\">\n",
       "      <th></th>\n",
       "      <th>S.NO</th>\n",
       "      <th>Current Rank</th>\n",
       "      <th>Year</th>\n",
       "      <th>earnings ($ million)</th>\n",
       "    </tr>\n",
       "  </thead>\n",
       "  <tbody>\n",
       "    <tr>\n",
       "      <th>count</th>\n",
       "      <td>301.000000</td>\n",
       "      <td>301.000000</td>\n",
       "      <td>301.000000</td>\n",
       "      <td>301.000000</td>\n",
       "    </tr>\n",
       "    <tr>\n",
       "      <th>mean</th>\n",
       "      <td>151.000000</td>\n",
       "      <td>5.448505</td>\n",
       "      <td>2005.122924</td>\n",
       "      <td>45.516279</td>\n",
       "    </tr>\n",
       "    <tr>\n",
       "      <th>std</th>\n",
       "      <td>87.035433</td>\n",
       "      <td>2.850995</td>\n",
       "      <td>9.063563</td>\n",
       "      <td>33.525337</td>\n",
       "    </tr>\n",
       "    <tr>\n",
       "      <th>min</th>\n",
       "      <td>1.000000</td>\n",
       "      <td>1.000000</td>\n",
       "      <td>1990.000000</td>\n",
       "      <td>8.100000</td>\n",
       "    </tr>\n",
       "    <tr>\n",
       "      <th>25%</th>\n",
       "      <td>76.000000</td>\n",
       "      <td>3.000000</td>\n",
       "      <td>1997.000000</td>\n",
       "      <td>24.000000</td>\n",
       "    </tr>\n",
       "    <tr>\n",
       "      <th>50%</th>\n",
       "      <td>151.000000</td>\n",
       "      <td>5.000000</td>\n",
       "      <td>2005.000000</td>\n",
       "      <td>39.000000</td>\n",
       "    </tr>\n",
       "    <tr>\n",
       "      <th>75%</th>\n",
       "      <td>226.000000</td>\n",
       "      <td>8.000000</td>\n",
       "      <td>2013.000000</td>\n",
       "      <td>59.400000</td>\n",
       "    </tr>\n",
       "    <tr>\n",
       "      <th>max</th>\n",
       "      <td>301.000000</td>\n",
       "      <td>10.000000</td>\n",
       "      <td>2020.000000</td>\n",
       "      <td>300.000000</td>\n",
       "    </tr>\n",
       "  </tbody>\n",
       "</table>\n",
       "</div>"
      ],
      "text/plain": [
       "             S.NO  Current Rank         Year  earnings ($ million)\n",
       "count  301.000000    301.000000   301.000000            301.000000\n",
       "mean   151.000000      5.448505  2005.122924             45.516279\n",
       "std     87.035433      2.850995     9.063563             33.525337\n",
       "min      1.000000      1.000000  1990.000000              8.100000\n",
       "25%     76.000000      3.000000  1997.000000             24.000000\n",
       "50%    151.000000      5.000000  2005.000000             39.000000\n",
       "75%    226.000000      8.000000  2013.000000             59.400000\n",
       "max    301.000000     10.000000  2020.000000            300.000000"
      ]
     },
     "execution_count": 6,
     "metadata": {},
     "output_type": "execute_result"
    }
   ],
   "source": [
    "# estádisticas de posición centrales y no centrales, dispersión estandar y promedio\n",
    "# variables númericas\n",
    "df.describe(include=np.number)"
   ]
  },
  {
   "cell_type": "markdown",
   "id": "d1f5ee47",
   "metadata": {
    "id": "_tnN1D0IWk05",
    "papermill": {
     "duration": 0.033506,
     "end_time": "2022-04-05T16:09:58.716851",
     "exception": false,
     "start_time": "2022-04-05T16:09:58.683345",
     "status": "completed"
    },
    "tags": []
   },
   "source": [
    "* El promedio de millones de dolares recibidos es de \\$45.4\n",
    "* El minimo recibido es de \\$8.1 millones\n",
    "* El máximo recibido es de \\$300 millones"
   ]
  },
  {
   "cell_type": "code",
   "execution_count": 7,
   "id": "f8d7f558",
   "metadata": {
    "execution": {
     "iopub.execute_input": "2022-04-05T16:09:58.802346Z",
     "iopub.status.busy": "2022-04-05T16:09:58.801555Z",
     "iopub.status.idle": "2022-04-05T16:09:58.804864Z",
     "shell.execute_reply": "2022-04-05T16:09:58.805412Z",
     "shell.execute_reply.started": "2022-04-05T16:03:53.993886Z"
    },
    "id": "w7G_nxwwN0Cm",
    "outputId": "ecce35cf-7094-4c3a-a25d-f2167bacd0ce",
    "papermill": {
     "duration": 0.055189,
     "end_time": "2022-04-05T16:09:58.805581",
     "exception": false,
     "start_time": "2022-04-05T16:09:58.750392",
     "status": "completed"
    },
    "tags": []
   },
   "outputs": [
    {
     "data": {
      "text/html": [
       "<div>\n",
       "<style scoped>\n",
       "    .dataframe tbody tr th:only-of-type {\n",
       "        vertical-align: middle;\n",
       "    }\n",
       "\n",
       "    .dataframe tbody tr th {\n",
       "        vertical-align: top;\n",
       "    }\n",
       "\n",
       "    .dataframe thead th {\n",
       "        text-align: right;\n",
       "    }\n",
       "</style>\n",
       "<table border=\"1\" class=\"dataframe\">\n",
       "  <thead>\n",
       "    <tr style=\"text-align: right;\">\n",
       "      <th></th>\n",
       "      <th>Name</th>\n",
       "      <th>Nationality</th>\n",
       "      <th>Previous Year Rank</th>\n",
       "      <th>Sport</th>\n",
       "    </tr>\n",
       "  </thead>\n",
       "  <tbody>\n",
       "    <tr>\n",
       "      <th>count</th>\n",
       "      <td>301</td>\n",
       "      <td>301</td>\n",
       "      <td>277</td>\n",
       "      <td>301</td>\n",
       "    </tr>\n",
       "    <tr>\n",
       "      <th>unique</th>\n",
       "      <td>82</td>\n",
       "      <td>22</td>\n",
       "      <td>36</td>\n",
       "      <td>29</td>\n",
       "    </tr>\n",
       "    <tr>\n",
       "      <th>top</th>\n",
       "      <td>Tiger Woods</td>\n",
       "      <td>USA</td>\n",
       "      <td>&gt;10</td>\n",
       "      <td>Basketball</td>\n",
       "    </tr>\n",
       "    <tr>\n",
       "      <th>freq</th>\n",
       "      <td>19</td>\n",
       "      <td>206</td>\n",
       "      <td>36</td>\n",
       "      <td>54</td>\n",
       "    </tr>\n",
       "  </tbody>\n",
       "</table>\n",
       "</div>"
      ],
      "text/plain": [
       "               Name Nationality Previous Year Rank       Sport\n",
       "count           301         301                277         301\n",
       "unique           82          22                 36          29\n",
       "top     Tiger Woods         USA                >10  Basketball\n",
       "freq             19         206                 36          54"
      ]
     },
     "execution_count": 7,
     "metadata": {},
     "output_type": "execute_result"
    }
   ],
   "source": [
    "# variables categoricas\n",
    "# Retorna número de valores únicos, valor más común y su frecuencia\n",
    "df.describe(include=object)"
   ]
  },
  {
   "cell_type": "markdown",
   "id": "bf22bab7",
   "metadata": {
    "id": "nyO6SkM-XJ1b",
    "papermill": {
     "duration": 0.034194,
     "end_time": "2022-04-05T16:09:58.877465",
     "exception": false,
     "start_time": "2022-04-05T16:09:58.843271",
     "status": "completed"
    },
    "tags": []
   },
   "source": [
    "* Michael Jordan es el atleta más frecuente en el top de atletas mejores pagados desde 1990 a 2020\n",
    "* La nacionalidad más frecuente es USA\n",
    "* El deporte más frecuente es el Basketball"
   ]
  },
  {
   "cell_type": "code",
   "execution_count": 8,
   "id": "a3746396",
   "metadata": {
    "execution": {
     "iopub.execute_input": "2022-04-05T16:09:58.950123Z",
     "iopub.status.busy": "2022-04-05T16:09:58.949072Z",
     "iopub.status.idle": "2022-04-05T16:09:58.977768Z",
     "shell.execute_reply": "2022-04-05T16:09:58.977188Z",
     "shell.execute_reply.started": "2022-04-05T16:03:54.010802Z"
    },
    "id": "PwUQggikOp3b",
    "outputId": "7fccd11a-f882-446f-dfa8-92ee2b08479b",
    "papermill": {
     "duration": 0.06607,
     "end_time": "2022-04-05T16:09:58.977911",
     "exception": false,
     "start_time": "2022-04-05T16:09:58.911841",
     "status": "completed"
    },
    "tags": []
   },
   "outputs": [
    {
     "data": {
      "text/html": [
       "<div>\n",
       "<style scoped>\n",
       "    .dataframe tbody tr th:only-of-type {\n",
       "        vertical-align: middle;\n",
       "    }\n",
       "\n",
       "    .dataframe tbody tr th {\n",
       "        vertical-align: top;\n",
       "    }\n",
       "\n",
       "    .dataframe thead th {\n",
       "        text-align: right;\n",
       "    }\n",
       "</style>\n",
       "<table border=\"1\" class=\"dataframe\">\n",
       "  <thead>\n",
       "    <tr style=\"text-align: right;\">\n",
       "      <th></th>\n",
       "      <th>S.NO</th>\n",
       "      <th>Name</th>\n",
       "      <th>Nationality</th>\n",
       "      <th>Current Rank</th>\n",
       "      <th>Previous Year Rank</th>\n",
       "      <th>Sport</th>\n",
       "      <th>Year</th>\n",
       "      <th>earnings ($ million)</th>\n",
       "      <th>count</th>\n",
       "    </tr>\n",
       "  </thead>\n",
       "  <tbody>\n",
       "    <tr>\n",
       "      <th>0</th>\n",
       "      <td>1</td>\n",
       "      <td>Michael Jordan</td>\n",
       "      <td>USA</td>\n",
       "      <td>9.0</td>\n",
       "      <td>&gt;10</td>\n",
       "      <td>Basketball</td>\n",
       "      <td>2002.0</td>\n",
       "      <td>35.0</td>\n",
       "      <td>1</td>\n",
       "    </tr>\n",
       "  </tbody>\n",
       "</table>\n",
       "</div>"
      ],
      "text/plain": [
       "   S.NO            Name Nationality  Current Rank Previous Year Rank  \\\n",
       "0     1  Michael Jordan         USA           9.0                >10   \n",
       "\n",
       "        Sport    Year  earnings ($ million)  count  \n",
       "0  Basketball  2002.0                  35.0      1  "
      ]
     },
     "execution_count": 8,
     "metadata": {},
     "output_type": "execute_result"
    }
   ],
   "source": [
    "# Sacar la moda de todas las variables\n",
    "df.mode().value_counts().reset_index(name=\"count\")"
   ]
  },
  {
   "cell_type": "code",
   "execution_count": 9,
   "id": "33c193c4",
   "metadata": {
    "execution": {
     "iopub.execute_input": "2022-04-05T16:09:59.052280Z",
     "iopub.status.busy": "2022-04-05T16:09:59.051283Z",
     "iopub.status.idle": "2022-04-05T16:09:59.059084Z",
     "shell.execute_reply": "2022-04-05T16:09:59.059582Z",
     "shell.execute_reply.started": "2022-04-05T16:03:54.032641Z"
    },
    "id": "Wit9wKION4Fk",
    "outputId": "9726a8fe-6961-4945-8c79-9dab113f343a",
    "papermill": {
     "duration": 0.046663,
     "end_time": "2022-04-05T16:09:59.059766",
     "exception": false,
     "start_time": "2022-04-05T16:09:59.013103",
     "status": "completed"
    },
    "tags": []
   },
   "outputs": [
    {
     "data": {
      "text/plain": [
       "USA                 206\n",
       "UK                   13\n",
       "Germany              13\n",
       "Switzerland          12\n",
       "Portugal             10\n",
       "Brazil                9\n",
       "Argentina             9\n",
       "Canada                6\n",
       "Italy                 4\n",
       "Finland               3\n",
       "France                3\n",
       "Philippines           3\n",
       "Russia                1\n",
       "Australia             1\n",
       "Dominican             1\n",
       "Austria               1\n",
       "Filipino              1\n",
       "Spain                 1\n",
       "Serbia                1\n",
       "Northern Ireland      1\n",
       "Ireland               1\n",
       "Mexico                1\n",
       "Name: Nationality, dtype: int64"
      ]
     },
     "execution_count": 9,
     "metadata": {},
     "output_type": "execute_result"
    }
   ],
   "source": [
    "# frecuencia de las variables más relevantes\n",
    "# Nacionalidad\n",
    "df_nationality = df[\"Nationality\"].value_counts()\n",
    "df_nationality"
   ]
  },
  {
   "cell_type": "markdown",
   "id": "f40a2e7e",
   "metadata": {
    "id": "8JOX7vo0YPUV",
    "papermill": {
     "duration": 0.034787,
     "end_time": "2022-04-05T16:09:59.129769",
     "exception": false,
     "start_time": "2022-04-05T16:09:59.094982",
     "status": "completed"
    },
    "tags": []
   },
   "source": [
    "En el top 5 de naciones con atletas mejor pagados se encuentran: Estados Unidos, Alemania, Reino Unido, Suiza y Portugal"
   ]
  },
  {
   "cell_type": "code",
   "execution_count": 10,
   "id": "5b8cb3ef",
   "metadata": {
    "execution": {
     "iopub.execute_input": "2022-04-05T16:09:59.205607Z",
     "iopub.status.busy": "2022-04-05T16:09:59.204578Z",
     "iopub.status.idle": "2022-04-05T16:09:59.590592Z",
     "shell.execute_reply": "2022-04-05T16:09:59.591120Z",
     "shell.execute_reply.started": "2022-04-05T16:03:54.042615Z"
    },
    "id": "YNXDg7N9AZmb",
    "outputId": "ced94ae4-1abc-44e6-8240-c98b79001e52",
    "papermill": {
     "duration": 0.42504,
     "end_time": "2022-04-05T16:09:59.591290",
     "exception": false,
     "start_time": "2022-04-05T16:09:59.166250",
     "status": "completed"
    },
    "tags": []
   },
   "outputs": [
    {
     "data": {
      "text/plain": [
       "<AxesSubplot:>"
      ]
     },
     "execution_count": 10,
     "metadata": {},
     "output_type": "execute_result"
    },
    {
     "data": {
      "image/png": "[encoded data removed]",
      "text/plain": [
       "<Figure size 1080x360 with 1 Axes>"
      ]
     },
     "metadata": {
      "needs_background": "light"
     },
     "output_type": "display_data"
    }
   ],
   "source": [
    "df_nationality.plot(kind=\"bar\", figsize=(15,5))"
   ]
  },
  {
   "cell_type": "code",
   "execution_count": 11,
   "id": "3661d3ba",
   "metadata": {
    "execution": {
     "iopub.execute_input": "2022-04-05T16:09:59.670291Z",
     "iopub.status.busy": "2022-04-05T16:09:59.669573Z",
     "iopub.status.idle": "2022-04-05T16:09:59.674815Z",
     "shell.execute_reply": "2022-04-05T16:09:59.675308Z",
     "shell.execute_reply.started": "2022-04-05T16:03:54.297842Z"
    },
    "id": "juBvTVqHKKcY",
    "outputId": "8bb211be-8761-4114-8101-0b109083d0bb",
    "papermill": {
     "duration": 0.047535,
     "end_time": "2022-04-05T16:09:59.675472",
     "exception": false,
     "start_time": "2022-04-05T16:09:59.627937",
     "status": "completed"
    },
    "tags": []
   },
   "outputs": [
    {
     "data": {
      "text/plain": [
       "Basketball                      54\n",
       "Boxing                          29\n",
       "basketball                      27\n",
       "Golf                            24\n",
       "Soccer                          22\n",
       "golf                            20\n",
       "Tennis                          18\n",
       "boxing                          17\n",
       "American Football               17\n",
       "soccer                          11\n",
       "Auto Racing                     10\n",
       "F1 racing                        8\n",
       "auto racing                      7\n",
       "tennis                           5\n",
       "F1 Motorsports                   5\n",
       "motorcycle gp                    4\n",
       "NFL                              3\n",
       "Baseball                         3\n",
       "NASCAR                           3\n",
       "baseball                         3\n",
       "Ice Hockey                       2\n",
       "Auto Racing (Nascar)             2\n",
       "cycling                          1\n",
       "American Football / Baseball     1\n",
       "Hockey                           1\n",
       "ice hockey                       1\n",
       "NBA                              1\n",
       "Auto racing                      1\n",
       "MMA                              1\n",
       "Name: Sport, dtype: int64"
      ]
     },
     "execution_count": 11,
     "metadata": {},
     "output_type": "execute_result"
    }
   ],
   "source": [
    "# Sports\n",
    "df[\"Sport\"].value_counts()"
   ]
  },
  {
   "cell_type": "markdown",
   "id": "a2cb1811",
   "metadata": {
    "id": "cHOH4HGtZiRz",
    "papermill": {
     "duration": 0.037132,
     "end_time": "2022-04-05T16:09:59.749670",
     "exception": false,
     "start_time": "2022-04-05T16:09:59.712538",
     "status": "completed"
    },
    "tags": []
   },
   "source": [
    "Aqui vemos que por ejemplo \"Basketball\" y \"basketball\" son variables distintas, por lo que las uniremos"
   ]
  },
  {
   "cell_type": "code",
   "execution_count": 12,
   "id": "9df56c18",
   "metadata": {
    "execution": {
     "iopub.execute_input": "2022-04-05T16:09:59.827863Z",
     "iopub.status.busy": "2022-04-05T16:09:59.827127Z",
     "iopub.status.idle": "2022-04-05T16:09:59.835398Z",
     "shell.execute_reply": "2022-04-05T16:09:59.834773Z",
     "shell.execute_reply.started": "2022-04-05T16:03:54.307617Z"
    },
    "id": "qGogTPaKZbN3",
    "papermill": {
     "duration": 0.048403,
     "end_time": "2022-04-05T16:09:59.835530",
     "exception": false,
     "start_time": "2022-04-05T16:09:59.787127",
     "status": "completed"
    },
    "tags": []
   },
   "outputs": [],
   "source": [
    "# Uniendo variables, reemplaza el deporte por su nombre general y las ligas al deporte asociado\n",
    "df[\"Sport\"].replace({\"basketball\": \"Basketball\", \n",
    "                     \"golf\": \"Golf\", \n",
    "                     \"boxing\":\"Boxing\", \n",
    "                     \"soccer\":\"Soccer\", \n",
    "                     \"auto racing\": \"Auto racing\", \n",
    "                     \"tennis\": \"Tennis\", \n",
    "                     \"ice hockey\":\"Ice Hockey\", \n",
    "                     \"NBA\":\"Basketball\", \n",
    "                     \"Hockey\": \"Ice Hockey\", \n",
    "                     \"baseball\":\"Baseball\", \n",
    "                     \"Auto Racing (Nascar)\":\"Auto Racing\", \n",
    "                     \"NASCAR\":\"Auto Racing\", \n",
    "                     \"Auto racing\":\"Auto Racing\", \n",
    "                     \"NFL\":\"American Football\", \n",
    "                     \"F1 Motorsports\":\"F1 racing\"}, inplace=True)"
   ]
  },
  {
   "cell_type": "code",
   "execution_count": 13,
   "id": "a124c9d1",
   "metadata": {
    "execution": {
     "iopub.execute_input": "2022-04-05T16:09:59.918048Z",
     "iopub.status.busy": "2022-04-05T16:09:59.917206Z",
     "iopub.status.idle": "2022-04-05T16:09:59.920446Z",
     "shell.execute_reply": "2022-04-05T16:09:59.920942Z",
     "shell.execute_reply.started": "2022-04-05T16:03:54.327255Z"
    },
    "id": "IYYCsPCfb7hz",
    "outputId": "b0d26186-13c4-4c65-85d2-c93b523b7e46",
    "papermill": {
     "duration": 0.048246,
     "end_time": "2022-04-05T16:09:59.921107",
     "exception": false,
     "start_time": "2022-04-05T16:09:59.872861",
     "status": "completed"
    },
    "tags": []
   },
   "outputs": [
    {
     "data": {
      "text/plain": [
       "Basketball                      82\n",
       "Boxing                          46\n",
       "Golf                            44\n",
       "Soccer                          33\n",
       "Tennis                          23\n",
       "American Football               20\n",
       "Auto Racing                     16\n",
       "F1 racing                       13\n",
       "Auto racing                      7\n",
       "Baseball                         6\n",
       "Ice Hockey                       4\n",
       "motorcycle gp                    4\n",
       "American Football / Baseball     1\n",
       "cycling                          1\n",
       "MMA                              1\n",
       "Name: Sport, dtype: int64"
      ]
     },
     "execution_count": 13,
     "metadata": {},
     "output_type": "execute_result"
    }
   ],
   "source": [
    "# Y ahora los datos están correctos\n",
    "df_sport = df[\"Sport\"].value_counts()\n",
    "df_sport"
   ]
  },
  {
   "cell_type": "markdown",
   "id": "2f7f6b32",
   "metadata": {
    "id": "eoMsj6eRdaSk",
    "papermill": {
     "duration": 0.037671,
     "end_time": "2022-04-05T16:09:59.997701",
     "exception": false,
     "start_time": "2022-04-05T16:09:59.960030",
     "status": "completed"
    },
    "tags": []
   },
   "source": [
    "Tenemos que el Basketball es el deporte con mayor cantidad de jugadores mejor pagados, le sigue el Boxing y el Golf"
   ]
  },
  {
   "cell_type": "code",
   "execution_count": 14,
   "id": "47ac9cc9",
   "metadata": {
    "execution": {
     "iopub.execute_input": "2022-04-05T16:10:00.077260Z",
     "iopub.status.busy": "2022-04-05T16:10:00.076291Z",
     "iopub.status.idle": "2022-04-05T16:10:00.318434Z",
     "shell.execute_reply": "2022-04-05T16:10:00.318998Z",
     "shell.execute_reply.started": "2022-04-05T16:03:54.344617Z"
    },
    "id": "0H2egEYFAywh",
    "outputId": "79ec6ec7-d4b4-4f70-df43-a0efdd6a78d9",
    "papermill": {
     "duration": 0.283333,
     "end_time": "2022-04-05T16:10:00.319183",
     "exception": false,
     "start_time": "2022-04-05T16:10:00.035850",
     "status": "completed"
    },
    "tags": []
   },
   "outputs": [
    {
     "data": {
      "text/plain": [
       "<AxesSubplot:ylabel='Sport'>"
      ]
     },
     "execution_count": 14,
     "metadata": {},
     "output_type": "execute_result"
    },
    {
     "data": {
      "image/png": "[encoded data removed]",
      "text/plain": [
       "<Figure size 504x504 with 1 Axes>"
      ]
     },
     "metadata": {},
     "output_type": "display_data"
    }
   ],
   "source": [
    "df_sport.plot(kind='pie', figsize=(7,7))"
   ]
  },
  {
   "cell_type": "code",
   "execution_count": 15,
   "id": "3ca0abab",
   "metadata": {
    "execution": {
     "iopub.execute_input": "2022-04-05T16:10:00.403364Z",
     "iopub.status.busy": "2022-04-05T16:10:00.402310Z",
     "iopub.status.idle": "2022-04-05T16:10:00.428049Z",
     "shell.execute_reply": "2022-04-05T16:10:00.427365Z",
     "shell.execute_reply.started": "2022-04-05T16:03:54.535702Z"
    },
    "id": "QCb39WoGesrI",
    "outputId": "9e0d0dfb-9910-4a67-9827-64388b39b275",
    "papermill": {
     "duration": 0.068786,
     "end_time": "2022-04-05T16:10:00.428199",
     "exception": false,
     "start_time": "2022-04-05T16:10:00.359413",
     "status": "completed"
    },
    "tags": []
   },
   "outputs": [
    {
     "data": {
      "text/html": [
       "<div>\n",
       "<style scoped>\n",
       "    .dataframe tbody tr th:only-of-type {\n",
       "        vertical-align: middle;\n",
       "    }\n",
       "\n",
       "    .dataframe tbody tr th {\n",
       "        vertical-align: top;\n",
       "    }\n",
       "\n",
       "    .dataframe thead th {\n",
       "        text-align: right;\n",
       "    }\n",
       "</style>\n",
       "<table border=\"1\" class=\"dataframe\">\n",
       "  <thead>\n",
       "    <tr style=\"text-align: right;\">\n",
       "      <th></th>\n",
       "      <th>Nationality</th>\n",
       "      <th>Sport</th>\n",
       "      <th>earnings ($ million)</th>\n",
       "    </tr>\n",
       "  </thead>\n",
       "  <tbody>\n",
       "    <tr>\n",
       "      <th>34</th>\n",
       "      <td>USA</td>\n",
       "      <td>Basketball</td>\n",
       "      <td>3433.3</td>\n",
       "    </tr>\n",
       "    <tr>\n",
       "      <th>36</th>\n",
       "      <td>USA</td>\n",
       "      <td>Golf</td>\n",
       "      <td>2078.0</td>\n",
       "    </tr>\n",
       "    <tr>\n",
       "      <th>35</th>\n",
       "      <td>USA</td>\n",
       "      <td>Boxing</td>\n",
       "      <td>1890.6</td>\n",
       "    </tr>\n",
       "    <tr>\n",
       "      <th>30</th>\n",
       "      <td>USA</td>\n",
       "      <td>American Football</td>\n",
       "      <td>938.7</td>\n",
       "    </tr>\n",
       "    <tr>\n",
       "      <th>22</th>\n",
       "      <td>Portugal</td>\n",
       "      <td>Soccer</td>\n",
       "      <td>787.1</td>\n",
       "    </tr>\n",
       "    <tr>\n",
       "      <th>26</th>\n",
       "      <td>Switzerland</td>\n",
       "      <td>Tennis</td>\n",
       "      <td>781.1</td>\n",
       "    </tr>\n",
       "    <tr>\n",
       "      <th>0</th>\n",
       "      <td>Argentina</td>\n",
       "      <td>Soccer</td>\n",
       "      <td>715.5</td>\n",
       "    </tr>\n",
       "    <tr>\n",
       "      <th>16</th>\n",
       "      <td>Germany</td>\n",
       "      <td>F1 racing</td>\n",
       "      <td>516.0</td>\n",
       "    </tr>\n",
       "    <tr>\n",
       "      <th>29</th>\n",
       "      <td>UK</td>\n",
       "      <td>Soccer</td>\n",
       "      <td>362.4</td>\n",
       "    </tr>\n",
       "    <tr>\n",
       "      <th>5</th>\n",
       "      <td>Brazil</td>\n",
       "      <td>Soccer</td>\n",
       "      <td>358.5</td>\n",
       "    </tr>\n",
       "    <tr>\n",
       "      <th>21</th>\n",
       "      <td>Philippines</td>\n",
       "      <td>Boxing</td>\n",
       "      <td>242.0</td>\n",
       "    </tr>\n",
       "    <tr>\n",
       "      <th>32</th>\n",
       "      <td>USA</td>\n",
       "      <td>Auto Racing</td>\n",
       "      <td>148.2</td>\n",
       "    </tr>\n",
       "    <tr>\n",
       "      <th>37</th>\n",
       "      <td>USA</td>\n",
       "      <td>Tennis</td>\n",
       "      <td>135.9</td>\n",
       "    </tr>\n",
       "    <tr>\n",
       "      <th>11</th>\n",
       "      <td>Finland</td>\n",
       "      <td>F1 racing</td>\n",
       "      <td>129.0</td>\n",
       "    </tr>\n",
       "    <tr>\n",
       "      <th>18</th>\n",
       "      <td>Italy</td>\n",
       "      <td>motorcycle gp</td>\n",
       "      <td>128.0</td>\n",
       "    </tr>\n",
       "    <tr>\n",
       "      <th>33</th>\n",
       "      <td>USA</td>\n",
       "      <td>Baseball</td>\n",
       "      <td>111.1</td>\n",
       "    </tr>\n",
       "    <tr>\n",
       "      <th>14</th>\n",
       "      <td>Germany</td>\n",
       "      <td>Auto Racing</td>\n",
       "      <td>108.0</td>\n",
       "    </tr>\n",
       "    <tr>\n",
       "      <th>17</th>\n",
       "      <td>Ireland</td>\n",
       "      <td>MMA</td>\n",
       "      <td>99.0</td>\n",
       "    </tr>\n",
       "    <tr>\n",
       "      <th>19</th>\n",
       "      <td>Mexico</td>\n",
       "      <td>Boxing</td>\n",
       "      <td>94.0</td>\n",
       "    </tr>\n",
       "    <tr>\n",
       "      <th>10</th>\n",
       "      <td>Filipino</td>\n",
       "      <td>Boxing</td>\n",
       "      <td>62.0</td>\n",
       "    </tr>\n",
       "    <tr>\n",
       "      <th>24</th>\n",
       "      <td>Serbia</td>\n",
       "      <td>Tennis</td>\n",
       "      <td>55.8</td>\n",
       "    </tr>\n",
       "    <tr>\n",
       "      <th>28</th>\n",
       "      <td>UK</td>\n",
       "      <td>Auto racing</td>\n",
       "      <td>55.0</td>\n",
       "    </tr>\n",
       "    <tr>\n",
       "      <th>20</th>\n",
       "      <td>Northern Ireland</td>\n",
       "      <td>Golf</td>\n",
       "      <td>50.0</td>\n",
       "    </tr>\n",
       "    <tr>\n",
       "      <th>8</th>\n",
       "      <td>Canada</td>\n",
       "      <td>Ice Hockey</td>\n",
       "      <td>45.9</td>\n",
       "    </tr>\n",
       "    <tr>\n",
       "      <th>25</th>\n",
       "      <td>Spain</td>\n",
       "      <td>Tennis</td>\n",
       "      <td>44.5</td>\n",
       "    </tr>\n",
       "    <tr>\n",
       "      <th>6</th>\n",
       "      <td>Canada</td>\n",
       "      <td>Auto Racing</td>\n",
       "      <td>43.0</td>\n",
       "    </tr>\n",
       "    <tr>\n",
       "      <th>3</th>\n",
       "      <td>Brazil</td>\n",
       "      <td>Auto Racing</td>\n",
       "      <td>40.5</td>\n",
       "    </tr>\n",
       "    <tr>\n",
       "      <th>9</th>\n",
       "      <td>Dominican</td>\n",
       "      <td>Baseball</td>\n",
       "      <td>35.0</td>\n",
       "    </tr>\n",
       "    <tr>\n",
       "      <th>23</th>\n",
       "      <td>Russia</td>\n",
       "      <td>Ice Hockey</td>\n",
       "      <td>29.8</td>\n",
       "    </tr>\n",
       "    <tr>\n",
       "      <th>38</th>\n",
       "      <td>USA</td>\n",
       "      <td>cycling</td>\n",
       "      <td>28.0</td>\n",
       "    </tr>\n",
       "    <tr>\n",
       "      <th>27</th>\n",
       "      <td>UK</td>\n",
       "      <td>Auto Racing</td>\n",
       "      <td>25.8</td>\n",
       "    </tr>\n",
       "    <tr>\n",
       "      <th>4</th>\n",
       "      <td>Brazil</td>\n",
       "      <td>Auto racing</td>\n",
       "      <td>23.0</td>\n",
       "    </tr>\n",
       "    <tr>\n",
       "      <th>31</th>\n",
       "      <td>USA</td>\n",
       "      <td>American Football / Baseball</td>\n",
       "      <td>22.5</td>\n",
       "    </tr>\n",
       "    <tr>\n",
       "      <th>13</th>\n",
       "      <td>France</td>\n",
       "      <td>Auto racing</td>\n",
       "      <td>20.0</td>\n",
       "    </tr>\n",
       "    <tr>\n",
       "      <th>12</th>\n",
       "      <td>France</td>\n",
       "      <td>Auto Racing</td>\n",
       "      <td>16.0</td>\n",
       "    </tr>\n",
       "    <tr>\n",
       "      <th>15</th>\n",
       "      <td>Germany</td>\n",
       "      <td>Auto racing</td>\n",
       "      <td>15.0</td>\n",
       "    </tr>\n",
       "    <tr>\n",
       "      <th>2</th>\n",
       "      <td>Austria</td>\n",
       "      <td>Auto Racing</td>\n",
       "      <td>13.5</td>\n",
       "    </tr>\n",
       "    <tr>\n",
       "      <th>7</th>\n",
       "      <td>Canada</td>\n",
       "      <td>Boxing</td>\n",
       "      <td>10.2</td>\n",
       "    </tr>\n",
       "    <tr>\n",
       "      <th>1</th>\n",
       "      <td>Australia</td>\n",
       "      <td>Golf</td>\n",
       "      <td>8.5</td>\n",
       "    </tr>\n",
       "  </tbody>\n",
       "</table>\n",
       "</div>"
      ],
      "text/plain": [
       "         Nationality                         Sport  earnings ($ million)\n",
       "34               USA                    Basketball                3433.3\n",
       "36               USA                          Golf                2078.0\n",
       "35               USA                        Boxing                1890.6\n",
       "30               USA             American Football                 938.7\n",
       "22          Portugal                        Soccer                 787.1\n",
       "26       Switzerland                        Tennis                 781.1\n",
       "0          Argentina                        Soccer                 715.5\n",
       "16           Germany                     F1 racing                 516.0\n",
       "29                UK                        Soccer                 362.4\n",
       "5             Brazil                        Soccer                 358.5\n",
       "21       Philippines                        Boxing                 242.0\n",
       "32               USA                   Auto Racing                 148.2\n",
       "37               USA                        Tennis                 135.9\n",
       "11           Finland                     F1 racing                 129.0\n",
       "18             Italy                 motorcycle gp                 128.0\n",
       "33               USA                      Baseball                 111.1\n",
       "14           Germany                   Auto Racing                 108.0\n",
       "17           Ireland                           MMA                  99.0\n",
       "19            Mexico                        Boxing                  94.0\n",
       "10          Filipino                        Boxing                  62.0\n",
       "24            Serbia                        Tennis                  55.8\n",
       "28                UK                   Auto racing                  55.0\n",
       "20  Northern Ireland                          Golf                  50.0\n",
       "8             Canada                    Ice Hockey                  45.9\n",
       "25             Spain                        Tennis                  44.5\n",
       "6             Canada                   Auto Racing                  43.0\n",
       "3             Brazil                   Auto Racing                  40.5\n",
       "9          Dominican                      Baseball                  35.0\n",
       "23            Russia                    Ice Hockey                  29.8\n",
       "38               USA                       cycling                  28.0\n",
       "27                UK                   Auto Racing                  25.8\n",
       "4             Brazil                   Auto racing                  23.0\n",
       "31               USA  American Football / Baseball                  22.5\n",
       "13            France                   Auto racing                  20.0\n",
       "12            France                   Auto Racing                  16.0\n",
       "15           Germany                   Auto racing                  15.0\n",
       "2            Austria                   Auto Racing                  13.5\n",
       "7             Canada                        Boxing                  10.2\n",
       "1          Australia                          Golf                   8.5"
      ]
     },
     "execution_count": 15,
     "metadata": {},
     "output_type": "execute_result"
    }
   ],
   "source": [
    "# correlación entre Nacionalidad, Deporte y dolares en total\n",
    "df_nse = df[[\"Nationality\",\"Sport\", \"earnings ($ million)\"]].groupby([\"Nationality\", \"Sport\"], as_index=False).sum()\n",
    "df_nse.sort_values(by=\"earnings ($ million)\", ascending=False)"
   ]
  },
  {
   "cell_type": "markdown",
   "id": "1a73cef7",
   "metadata": {
    "id": "mjLD1ivf2LU-",
    "papermill": {
     "duration": 0.040168,
     "end_time": "2022-04-05T16:10:00.508970",
     "exception": false,
     "start_time": "2022-04-05T16:10:00.468802",
     "status": "completed"
    },
    "tags": []
   },
   "source": [
    "Como podemos apreciar Estados Unidos es el único país que tiene jugadores en Basketball, el deporte con más dinero y el único que no se repite en esta lista."
   ]
  },
  {
   "cell_type": "code",
   "execution_count": 16,
   "id": "eb1a9a1e",
   "metadata": {
    "execution": {
     "iopub.execute_input": "2022-04-05T16:10:00.596766Z",
     "iopub.status.busy": "2022-04-05T16:10:00.596110Z",
     "iopub.status.idle": "2022-04-05T16:10:01.162841Z",
     "shell.execute_reply": "2022-04-05T16:10:01.163338Z",
     "shell.execute_reply.started": "2022-04-05T16:03:54.559934Z"
    },
    "id": "o-2khRPW8LA_",
    "outputId": "e412ff40-6ef8-41e4-d944-078114a063f0",
    "papermill": {
     "duration": 0.613438,
     "end_time": "2022-04-05T16:10:01.163519",
     "exception": false,
     "start_time": "2022-04-05T16:10:00.550081",
     "status": "completed"
    },
    "tags": []
   },
   "outputs": [
    {
     "data": {
      "text/plain": [
       "<AxesSubplot:xlabel='earnings ($ million)', ylabel='Sport'>"
      ]
     },
     "execution_count": 16,
     "metadata": {},
     "output_type": "execute_result"
    },
    {
     "data": {
      "image/png": "[encoded data removed]",
      "text/plain": [
       "<Figure size 1080x360 with 1 Axes>"
      ]
     },
     "metadata": {
      "needs_background": "light"
     },
     "output_type": "display_data"
    }
   ],
   "source": [
    "# grafico de barras que muestra la relación entre deporte y dinero ganado\n",
    "plt.figure(figsize=(15,5))\n",
    "df_nse.sort_values(by=\"earnings ($ million)\", ascending=False, inplace=True)\n",
    "sns.barplot(data=df_nse, y=\"Sport\", x=\"earnings ($ million)\")"
   ]
  },
  {
   "cell_type": "code",
   "execution_count": 17,
   "id": "cbd3aa26",
   "metadata": {
    "execution": {
     "iopub.execute_input": "2022-04-05T16:10:01.251848Z",
     "iopub.status.busy": "2022-04-05T16:10:01.250804Z",
     "iopub.status.idle": "2022-04-05T16:10:01.519954Z",
     "shell.execute_reply": "2022-04-05T16:10:01.520419Z",
     "shell.execute_reply.started": "2022-04-05T16:03:54.995614Z"
    },
    "id": "LyUzqZl0L4Zq",
    "outputId": "fa43b8b0-7e32-4928-d24a-82105ca961d8",
    "papermill": {
     "duration": 0.314718,
     "end_time": "2022-04-05T16:10:01.520602",
     "exception": false,
     "start_time": "2022-04-05T16:10:01.205884",
     "status": "completed"
    },
    "tags": []
   },
   "outputs": [
    {
     "data": {
      "text/plain": [
       "<AxesSubplot:xlabel='earnings ($ million)', ylabel='Sport'>"
      ]
     },
     "execution_count": 17,
     "metadata": {},
     "output_type": "execute_result"
    },
    {
     "data": {
      "image/png": "[encoded data removed]",
      "text/plain": [
       "<Figure size 1080x360 with 1 Axes>"
      ]
     },
     "metadata": {
      "needs_background": "light"
     },
     "output_type": "display_data"
    }
   ],
   "source": [
    "# correlación entre el deporte y su promedio de ganancias\n",
    "df_nse1 = df[[\"Sport\", \"earnings ($ million)\"]].groupby([\"Sport\"], as_index=False).mean()\n",
    "df_nse1.sort_values(by=\"earnings ($ million)\", ascending=False, inplace=True)\n",
    "plt.figure(figsize=(15,5))\n",
    "sns.barplot(data=df_nse1, y=\"Sport\", x=\"earnings ($ million)\")"
   ]
  },
  {
   "cell_type": "code",
   "execution_count": 18,
   "id": "56de3f6b",
   "metadata": {
    "execution": {
     "iopub.execute_input": "2022-04-05T16:10:01.613107Z",
     "iopub.status.busy": "2022-04-05T16:10:01.612062Z",
     "iopub.status.idle": "2022-04-05T16:10:01.632080Z",
     "shell.execute_reply": "2022-04-05T16:10:01.632577Z",
     "shell.execute_reply.started": "2022-04-05T16:03:55.238530Z"
    },
    "id": "YXWJGZsIF6L4",
    "outputId": "8856f7d7-3a7a-47f2-a89f-e93f7dd5cf77",
    "papermill": {
     "duration": 0.068263,
     "end_time": "2022-04-05T16:10:01.632757",
     "exception": false,
     "start_time": "2022-04-05T16:10:01.564494",
     "status": "completed"
    },
    "tags": []
   },
   "outputs": [
    {
     "data": {
      "text/html": [
       "<div>\n",
       "<style scoped>\n",
       "    .dataframe tbody tr th:only-of-type {\n",
       "        vertical-align: middle;\n",
       "    }\n",
       "\n",
       "    .dataframe tbody tr th {\n",
       "        vertical-align: top;\n",
       "    }\n",
       "\n",
       "    .dataframe thead th {\n",
       "        text-align: right;\n",
       "    }\n",
       "</style>\n",
       "<table border=\"1\" class=\"dataframe\">\n",
       "  <thead>\n",
       "    <tr style=\"text-align: right;\">\n",
       "      <th></th>\n",
       "      <th>S.NO</th>\n",
       "      <th>Name</th>\n",
       "      <th>Nationality</th>\n",
       "      <th>Current Rank</th>\n",
       "      <th>Previous Year Rank</th>\n",
       "      <th>Sport</th>\n",
       "      <th>Year</th>\n",
       "      <th>earnings ($ million)</th>\n",
       "      <th>earnings-range</th>\n",
       "    </tr>\n",
       "  </thead>\n",
       "  <tbody>\n",
       "    <tr>\n",
       "      <th>0</th>\n",
       "      <td>1</td>\n",
       "      <td>Mike Tyson</td>\n",
       "      <td>USA</td>\n",
       "      <td>1</td>\n",
       "      <td>NaN</td>\n",
       "      <td>Boxing</td>\n",
       "      <td>1990</td>\n",
       "      <td>28.6</td>\n",
       "      <td>Bajo</td>\n",
       "    </tr>\n",
       "    <tr>\n",
       "      <th>1</th>\n",
       "      <td>2</td>\n",
       "      <td>Buster Douglas</td>\n",
       "      <td>USA</td>\n",
       "      <td>2</td>\n",
       "      <td>NaN</td>\n",
       "      <td>Boxing</td>\n",
       "      <td>1990</td>\n",
       "      <td>26.0</td>\n",
       "      <td>Bajo</td>\n",
       "    </tr>\n",
       "    <tr>\n",
       "      <th>2</th>\n",
       "      <td>3</td>\n",
       "      <td>Sugar Ray Leonard</td>\n",
       "      <td>USA</td>\n",
       "      <td>3</td>\n",
       "      <td>NaN</td>\n",
       "      <td>Boxing</td>\n",
       "      <td>1990</td>\n",
       "      <td>13.0</td>\n",
       "      <td>Muy Bajo</td>\n",
       "    </tr>\n",
       "    <tr>\n",
       "      <th>3</th>\n",
       "      <td>4</td>\n",
       "      <td>Ayrton Senna</td>\n",
       "      <td>Brazil</td>\n",
       "      <td>4</td>\n",
       "      <td>NaN</td>\n",
       "      <td>Auto racing</td>\n",
       "      <td>1990</td>\n",
       "      <td>10.0</td>\n",
       "      <td>Muy Bajo</td>\n",
       "    </tr>\n",
       "    <tr>\n",
       "      <th>4</th>\n",
       "      <td>5</td>\n",
       "      <td>Alain Prost</td>\n",
       "      <td>France</td>\n",
       "      <td>5</td>\n",
       "      <td>NaN</td>\n",
       "      <td>Auto racing</td>\n",
       "      <td>1990</td>\n",
       "      <td>9.0</td>\n",
       "      <td>Muy Bajo</td>\n",
       "    </tr>\n",
       "    <tr>\n",
       "      <th>5</th>\n",
       "      <td>6</td>\n",
       "      <td>Jack Nicklaus</td>\n",
       "      <td>USA</td>\n",
       "      <td>6</td>\n",
       "      <td>NaN</td>\n",
       "      <td>Golf</td>\n",
       "      <td>1990</td>\n",
       "      <td>8.6</td>\n",
       "      <td>Muy Bajo</td>\n",
       "    </tr>\n",
       "    <tr>\n",
       "      <th>6</th>\n",
       "      <td>7</td>\n",
       "      <td>Greg Norman</td>\n",
       "      <td>Australia</td>\n",
       "      <td>7</td>\n",
       "      <td>NaN</td>\n",
       "      <td>Golf</td>\n",
       "      <td>1990</td>\n",
       "      <td>8.5</td>\n",
       "      <td>Muy Bajo</td>\n",
       "    </tr>\n",
       "    <tr>\n",
       "      <th>7</th>\n",
       "      <td>8</td>\n",
       "      <td>Michael Jordan</td>\n",
       "      <td>USA</td>\n",
       "      <td>8</td>\n",
       "      <td>NaN</td>\n",
       "      <td>Basketball</td>\n",
       "      <td>1990</td>\n",
       "      <td>8.1</td>\n",
       "      <td>Muy Bajo</td>\n",
       "    </tr>\n",
       "    <tr>\n",
       "      <th>8</th>\n",
       "      <td>9</td>\n",
       "      <td>Arnold Palmer</td>\n",
       "      <td>USA</td>\n",
       "      <td>8</td>\n",
       "      <td>NaN</td>\n",
       "      <td>Golf</td>\n",
       "      <td>1990</td>\n",
       "      <td>8.1</td>\n",
       "      <td>Muy Bajo</td>\n",
       "    </tr>\n",
       "    <tr>\n",
       "      <th>9</th>\n",
       "      <td>10</td>\n",
       "      <td>Evander Holyfield</td>\n",
       "      <td>USA</td>\n",
       "      <td>8</td>\n",
       "      <td>NaN</td>\n",
       "      <td>Boxing</td>\n",
       "      <td>1990</td>\n",
       "      <td>8.1</td>\n",
       "      <td>Muy Bajo</td>\n",
       "    </tr>\n",
       "    <tr>\n",
       "      <th>10</th>\n",
       "      <td>11</td>\n",
       "      <td>Evander Holyfield</td>\n",
       "      <td>USA</td>\n",
       "      <td>1</td>\n",
       "      <td>8</td>\n",
       "      <td>Boxing</td>\n",
       "      <td>1991</td>\n",
       "      <td>60.5</td>\n",
       "      <td>Alto</td>\n",
       "    </tr>\n",
       "    <tr>\n",
       "      <th>11</th>\n",
       "      <td>12</td>\n",
       "      <td>Mike Tyson</td>\n",
       "      <td>USA</td>\n",
       "      <td>2</td>\n",
       "      <td>1</td>\n",
       "      <td>Boxing</td>\n",
       "      <td>1991</td>\n",
       "      <td>31.5</td>\n",
       "      <td>Medio</td>\n",
       "    </tr>\n",
       "    <tr>\n",
       "      <th>12</th>\n",
       "      <td>13</td>\n",
       "      <td>Michael Jordan</td>\n",
       "      <td>USA</td>\n",
       "      <td>3</td>\n",
       "      <td>8</td>\n",
       "      <td>Basketball</td>\n",
       "      <td>1991</td>\n",
       "      <td>16.0</td>\n",
       "      <td>Muy Bajo</td>\n",
       "    </tr>\n",
       "    <tr>\n",
       "      <th>13</th>\n",
       "      <td>14</td>\n",
       "      <td>George Foreman</td>\n",
       "      <td>USA</td>\n",
       "      <td>4</td>\n",
       "      <td>&gt;30</td>\n",
       "      <td>Boxing</td>\n",
       "      <td>1991</td>\n",
       "      <td>14.5</td>\n",
       "      <td>Muy Bajo</td>\n",
       "    </tr>\n",
       "    <tr>\n",
       "      <th>14</th>\n",
       "      <td>15</td>\n",
       "      <td>Ayrton Senna</td>\n",
       "      <td>Brazil</td>\n",
       "      <td>5</td>\n",
       "      <td>4</td>\n",
       "      <td>Auto racing</td>\n",
       "      <td>1991</td>\n",
       "      <td>13.0</td>\n",
       "      <td>Muy Bajo</td>\n",
       "    </tr>\n",
       "  </tbody>\n",
       "</table>\n",
       "</div>"
      ],
      "text/plain": [
       "    S.NO               Name Nationality  Current Rank Previous Year Rank  \\\n",
       "0      1         Mike Tyson         USA             1                NaN   \n",
       "1      2     Buster Douglas         USA             2                NaN   \n",
       "2      3  Sugar Ray Leonard         USA             3                NaN   \n",
       "3      4       Ayrton Senna      Brazil             4                NaN   \n",
       "4      5        Alain Prost      France             5                NaN   \n",
       "5      6      Jack Nicklaus         USA             6                NaN   \n",
       "6      7        Greg Norman   Australia             7                NaN   \n",
       "7      8     Michael Jordan         USA             8                NaN   \n",
       "8      9      Arnold Palmer         USA             8                NaN   \n",
       "9     10  Evander Holyfield         USA             8                NaN   \n",
       "10    11  Evander Holyfield         USA             1                  8   \n",
       "11    12         Mike Tyson         USA             2                  1   \n",
       "12    13     Michael Jordan         USA             3                  8   \n",
       "13    14     George Foreman         USA             4                >30   \n",
       "14    15       Ayrton Senna      Brazil             5                  4   \n",
       "\n",
       "          Sport  Year  earnings ($ million) earnings-range  \n",
       "0        Boxing  1990                  28.6           Bajo  \n",
       "1        Boxing  1990                  26.0           Bajo  \n",
       "2        Boxing  1990                  13.0       Muy Bajo  \n",
       "3   Auto racing  1990                  10.0       Muy Bajo  \n",
       "4   Auto racing  1990                   9.0       Muy Bajo  \n",
       "5          Golf  1990                   8.6       Muy Bajo  \n",
       "6          Golf  1990                   8.5       Muy Bajo  \n",
       "7    Basketball  1990                   8.1       Muy Bajo  \n",
       "8          Golf  1990                   8.1       Muy Bajo  \n",
       "9        Boxing  1990                   8.1       Muy Bajo  \n",
       "10       Boxing  1991                  60.5           Alto  \n",
       "11       Boxing  1991                  31.5          Medio  \n",
       "12   Basketball  1991                  16.0       Muy Bajo  \n",
       "13       Boxing  1991                  14.5       Muy Bajo  \n",
       "14  Auto racing  1991                  13.0       Muy Bajo  "
      ]
     },
     "execution_count": 18,
     "metadata": {},
     "output_type": "execute_result"
    }
   ],
   "source": [
    "# variable categorica a partir de lo ganado por los atletas\n",
    "\n",
    "# le daremos un nombre a cada rango\n",
    "headers = [\"Muy Bajo\", \"Bajo\", \"Medio\", \"Medio Alto\", \"Alto\", \"Muy Alto\"]\n",
    "# qcut de pandas para generar los bins con una proporción casi identica\n",
    "df[\"earnings-range\"] = pd.qcut(df[\"earnings ($ million)\"], q=6, labels=headers)\n",
    "df.head(15)"
   ]
  },
  {
   "cell_type": "code",
   "execution_count": 19,
   "id": "d17f0bf0",
   "metadata": {
    "execution": {
     "iopub.execute_input": "2022-04-05T16:10:01.726409Z",
     "iopub.status.busy": "2022-04-05T16:10:01.725324Z",
     "iopub.status.idle": "2022-04-05T16:10:02.194607Z",
     "shell.execute_reply": "2022-04-05T16:10:02.193994Z",
     "shell.execute_reply.started": "2022-04-05T16:03:55.258315Z"
    },
    "id": "T_rwdUcBkDT3",
    "outputId": "139a1bba-6838-47ac-ecfd-01d7f95a13f1",
    "papermill": {
     "duration": 0.517225,
     "end_time": "2022-04-05T16:10:02.194763",
     "exception": false,
     "start_time": "2022-04-05T16:10:01.677538",
     "status": "completed"
    },
    "tags": []
   },
   "outputs": [
    {
     "data": {
      "image/png": "[encoded data removed]",
      "text/plain": [
       "<Figure size 1080x360 with 2 Axes>"
      ]
     },
     "metadata": {
      "needs_background": "light"
     },
     "output_type": "display_data"
    }
   ],
   "source": [
    "# gráfico a partir de los rangos generados en correlación con los años\n",
    "df_ye = df[[\"Year\",\"earnings-range\"]].value_counts()\n",
    "df_ye = df_ye.reset_index(name=\"counts\")\n",
    "df_ye_pivot = df_ye.pivot(index=\"earnings-range\", columns=\"Year\")\n",
    "plt.figure(figsize=(15,5))\n",
    "ax = sns.heatmap(df_ye_pivot, cmap=\"viridis\")\n",
    "ax.invert_yaxis()"
   ]
  },
  {
   "cell_type": "markdown",
   "id": "5b70707f",
   "metadata": {
    "id": "ftlbkIMkks-F",
    "papermill": {
     "duration": 0.045087,
     "end_time": "2022-04-05T16:10:02.285955",
     "exception": false,
     "start_time": "2022-04-05T16:10:02.240868",
     "status": "completed"
    },
    "tags": []
   },
   "source": [
    "Podemos ver que que hay una relación entre los años y lo que ganan los atletas más ricos del mundo.\n",
    "\n",
    "El color verde claro representa el rango dominante y el color oscuro representa el menos dominante"
   ]
  },
  {
   "cell_type": "code",
   "execution_count": 20,
   "id": "365ec387",
   "metadata": {
    "execution": {
     "iopub.execute_input": "2022-04-05T16:10:02.384945Z",
     "iopub.status.busy": "2022-04-05T16:10:02.384196Z",
     "iopub.status.idle": "2022-04-05T16:10:02.399788Z",
     "shell.execute_reply": "2022-04-05T16:10:02.400274Z",
     "shell.execute_reply.started": "2022-04-05T16:03:55.668123Z"
    },
    "id": "-PFy1LW1Mflz",
    "outputId": "70a1a36b-9f68-4494-eb21-c88802b21719",
    "papermill": {
     "duration": 0.069071,
     "end_time": "2022-04-05T16:10:02.400451",
     "exception": false,
     "start_time": "2022-04-05T16:10:02.331380",
     "status": "completed"
    },
    "tags": []
   },
   "outputs": [
    {
     "data": {
      "text/html": [
       "<div>\n",
       "<style scoped>\n",
       "    .dataframe tbody tr th:only-of-type {\n",
       "        vertical-align: middle;\n",
       "    }\n",
       "\n",
       "    .dataframe tbody tr th {\n",
       "        vertical-align: top;\n",
       "    }\n",
       "\n",
       "    .dataframe thead th {\n",
       "        text-align: right;\n",
       "    }\n",
       "</style>\n",
       "<table border=\"1\" class=\"dataframe\">\n",
       "  <thead>\n",
       "    <tr style=\"text-align: right;\">\n",
       "      <th></th>\n",
       "      <th>Name</th>\n",
       "      <th>Sport</th>\n",
       "      <th>earnings ($ million)</th>\n",
       "      <th>earnings-range</th>\n",
       "    </tr>\n",
       "    <tr>\n",
       "      <th>Year</th>\n",
       "      <th></th>\n",
       "      <th></th>\n",
       "      <th></th>\n",
       "      <th></th>\n",
       "    </tr>\n",
       "  </thead>\n",
       "  <tbody>\n",
       "    <tr>\n",
       "      <th>2020</th>\n",
       "      <td>Roger Federer</td>\n",
       "      <td>Tennis</td>\n",
       "      <td>106.3</td>\n",
       "      <td>Muy Alto</td>\n",
       "    </tr>\n",
       "    <tr>\n",
       "      <th>2019</th>\n",
       "      <td>Lionel Messi</td>\n",
       "      <td>Soccer</td>\n",
       "      <td>127.0</td>\n",
       "      <td>Muy Alto</td>\n",
       "    </tr>\n",
       "    <tr>\n",
       "      <th>2018</th>\n",
       "      <td>Floyd Mayweather</td>\n",
       "      <td>Boxing</td>\n",
       "      <td>285.0</td>\n",
       "      <td>Muy Alto</td>\n",
       "    </tr>\n",
       "    <tr>\n",
       "      <th>2017</th>\n",
       "      <td>Cristiano Ronaldo</td>\n",
       "      <td>Soccer</td>\n",
       "      <td>93.0</td>\n",
       "      <td>Muy Alto</td>\n",
       "    </tr>\n",
       "    <tr>\n",
       "      <th>2016</th>\n",
       "      <td>Cristiano Ronaldo</td>\n",
       "      <td>Soccer</td>\n",
       "      <td>88.0</td>\n",
       "      <td>Muy Alto</td>\n",
       "    </tr>\n",
       "    <tr>\n",
       "      <th>2015</th>\n",
       "      <td>Floyd Mayweather</td>\n",
       "      <td>Boxing</td>\n",
       "      <td>300.0</td>\n",
       "      <td>Muy Alto</td>\n",
       "    </tr>\n",
       "    <tr>\n",
       "      <th>2014</th>\n",
       "      <td>Floyd Mayweather</td>\n",
       "      <td>Boxing</td>\n",
       "      <td>105.0</td>\n",
       "      <td>Muy Alto</td>\n",
       "    </tr>\n",
       "    <tr>\n",
       "      <th>2013</th>\n",
       "      <td>Tiger Woods</td>\n",
       "      <td>Golf</td>\n",
       "      <td>78.1</td>\n",
       "      <td>Muy Alto</td>\n",
       "    </tr>\n",
       "    <tr>\n",
       "      <th>2012</th>\n",
       "      <td>Floyd Mayweather</td>\n",
       "      <td>Boxing</td>\n",
       "      <td>85.0</td>\n",
       "      <td>Muy Alto</td>\n",
       "    </tr>\n",
       "    <tr>\n",
       "      <th>2011</th>\n",
       "      <td>Tiger Woods</td>\n",
       "      <td>Golf</td>\n",
       "      <td>75.0</td>\n",
       "      <td>Muy Alto</td>\n",
       "    </tr>\n",
       "    <tr>\n",
       "      <th>2010</th>\n",
       "      <td>Tiger Woods</td>\n",
       "      <td>Golf</td>\n",
       "      <td>105.0</td>\n",
       "      <td>Muy Alto</td>\n",
       "    </tr>\n",
       "    <tr>\n",
       "      <th>2009</th>\n",
       "      <td>Tiger Woods</td>\n",
       "      <td>Golf</td>\n",
       "      <td>110.0</td>\n",
       "      <td>Muy Alto</td>\n",
       "    </tr>\n",
       "    <tr>\n",
       "      <th>2008</th>\n",
       "      <td>Tiger Woods</td>\n",
       "      <td>Golf</td>\n",
       "      <td>115.0</td>\n",
       "      <td>Muy Alto</td>\n",
       "    </tr>\n",
       "    <tr>\n",
       "      <th>2007</th>\n",
       "      <td>Tiger Woods</td>\n",
       "      <td>Golf</td>\n",
       "      <td>100.0</td>\n",
       "      <td>Muy Alto</td>\n",
       "    </tr>\n",
       "    <tr>\n",
       "      <th>2006</th>\n",
       "      <td>Tiger Woods</td>\n",
       "      <td>Golf</td>\n",
       "      <td>90.0</td>\n",
       "      <td>Muy Alto</td>\n",
       "    </tr>\n",
       "    <tr>\n",
       "      <th>2005</th>\n",
       "      <td>Tiger Woods</td>\n",
       "      <td>Golf</td>\n",
       "      <td>87.0</td>\n",
       "      <td>Muy Alto</td>\n",
       "    </tr>\n",
       "    <tr>\n",
       "      <th>2004</th>\n",
       "      <td>Tiger Woods</td>\n",
       "      <td>Golf</td>\n",
       "      <td>80.3</td>\n",
       "      <td>Muy Alto</td>\n",
       "    </tr>\n",
       "    <tr>\n",
       "      <th>2003</th>\n",
       "      <td>Tiger Woods</td>\n",
       "      <td>Golf</td>\n",
       "      <td>78.0</td>\n",
       "      <td>Muy Alto</td>\n",
       "    </tr>\n",
       "    <tr>\n",
       "      <th>2002</th>\n",
       "      <td>Tiger Woods</td>\n",
       "      <td>Golf</td>\n",
       "      <td>69.0</td>\n",
       "      <td>Alto</td>\n",
       "    </tr>\n",
       "    <tr>\n",
       "      <th>2000</th>\n",
       "      <td>Michael Schumacher</td>\n",
       "      <td>Auto Racing</td>\n",
       "      <td>59.0</td>\n",
       "      <td>Alto</td>\n",
       "    </tr>\n",
       "    <tr>\n",
       "      <th>1999</th>\n",
       "      <td>Michael Schumacher</td>\n",
       "      <td>Auto Racing</td>\n",
       "      <td>49.0</td>\n",
       "      <td>Medio Alto</td>\n",
       "    </tr>\n",
       "    <tr>\n",
       "      <th>1998</th>\n",
       "      <td>Michael Jordan</td>\n",
       "      <td>Basketball</td>\n",
       "      <td>69.0</td>\n",
       "      <td>Alto</td>\n",
       "    </tr>\n",
       "    <tr>\n",
       "      <th>1997</th>\n",
       "      <td>Michael Jordan</td>\n",
       "      <td>Basketball</td>\n",
       "      <td>78.3</td>\n",
       "      <td>Muy Alto</td>\n",
       "    </tr>\n",
       "    <tr>\n",
       "      <th>1996</th>\n",
       "      <td>Mike Tyson</td>\n",
       "      <td>Boxing</td>\n",
       "      <td>75.0</td>\n",
       "      <td>Muy Alto</td>\n",
       "    </tr>\n",
       "    <tr>\n",
       "      <th>1995</th>\n",
       "      <td>Michael Jordan</td>\n",
       "      <td>Basketball</td>\n",
       "      <td>43.9</td>\n",
       "      <td>Medio Alto</td>\n",
       "    </tr>\n",
       "    <tr>\n",
       "      <th>1994</th>\n",
       "      <td>Michael Jordan</td>\n",
       "      <td>Basketball</td>\n",
       "      <td>30.0</td>\n",
       "      <td>Medio</td>\n",
       "    </tr>\n",
       "    <tr>\n",
       "      <th>1993</th>\n",
       "      <td>Michael Jordan</td>\n",
       "      <td>Basketball</td>\n",
       "      <td>36.0</td>\n",
       "      <td>Medio</td>\n",
       "    </tr>\n",
       "    <tr>\n",
       "      <th>1992</th>\n",
       "      <td>Michael Jordan</td>\n",
       "      <td>Basketball</td>\n",
       "      <td>35.9</td>\n",
       "      <td>Medio</td>\n",
       "    </tr>\n",
       "    <tr>\n",
       "      <th>1991</th>\n",
       "      <td>Evander Holyfield</td>\n",
       "      <td>Boxing</td>\n",
       "      <td>60.5</td>\n",
       "      <td>Alto</td>\n",
       "    </tr>\n",
       "    <tr>\n",
       "      <th>1990</th>\n",
       "      <td>Mike Tyson</td>\n",
       "      <td>Boxing</td>\n",
       "      <td>28.6</td>\n",
       "      <td>Bajo</td>\n",
       "    </tr>\n",
       "  </tbody>\n",
       "</table>\n",
       "</div>"
      ],
      "text/plain": [
       "                    Name        Sport  earnings ($ million) earnings-range\n",
       "Year                                                                      \n",
       "2020       Roger Federer       Tennis                 106.3       Muy Alto\n",
       "2019        Lionel Messi       Soccer                 127.0       Muy Alto\n",
       "2018    Floyd Mayweather       Boxing                 285.0       Muy Alto\n",
       "2017   Cristiano Ronaldo       Soccer                  93.0       Muy Alto\n",
       "2016   Cristiano Ronaldo       Soccer                  88.0       Muy Alto\n",
       "2015    Floyd Mayweather       Boxing                 300.0       Muy Alto\n",
       "2014    Floyd Mayweather       Boxing                 105.0       Muy Alto\n",
       "2013         Tiger Woods         Golf                  78.1       Muy Alto\n",
       "2012    Floyd Mayweather       Boxing                  85.0       Muy Alto\n",
       "2011         Tiger Woods         Golf                  75.0       Muy Alto\n",
       "2010         Tiger Woods         Golf                 105.0       Muy Alto\n",
       "2009         Tiger Woods         Golf                 110.0       Muy Alto\n",
       "2008         Tiger Woods         Golf                 115.0       Muy Alto\n",
       "2007         Tiger Woods         Golf                 100.0       Muy Alto\n",
       "2006         Tiger Woods         Golf                  90.0       Muy Alto\n",
       "2005         Tiger Woods         Golf                  87.0       Muy Alto\n",
       "2004         Tiger Woods         Golf                  80.3       Muy Alto\n",
       "2003         Tiger Woods         Golf                  78.0       Muy Alto\n",
       "2002         Tiger Woods         Golf                  69.0           Alto\n",
       "2000  Michael Schumacher  Auto Racing                  59.0           Alto\n",
       "1999  Michael Schumacher  Auto Racing                  49.0     Medio Alto\n",
       "1998      Michael Jordan   Basketball                  69.0           Alto\n",
       "1997      Michael Jordan   Basketball                  78.3       Muy Alto\n",
       "1996          Mike Tyson       Boxing                  75.0       Muy Alto\n",
       "1995      Michael Jordan   Basketball                  43.9     Medio Alto\n",
       "1994      Michael Jordan   Basketball                  30.0          Medio\n",
       "1993      Michael Jordan   Basketball                  36.0          Medio\n",
       "1992      Michael Jordan   Basketball                  35.9          Medio\n",
       "1991   Evander Holyfield       Boxing                  60.5           Alto\n",
       "1990          Mike Tyson       Boxing                  28.6           Bajo"
      ]
     },
     "execution_count": 20,
     "metadata": {},
     "output_type": "execute_result"
    }
   ],
   "source": [
    "# tabla con el lider de cada año\n",
    "df_pse = df[df[\"Current Rank\"] == 1]\n",
    "df_pse = df_pse[[\"Name\", \"Year\", \"Sport\", \"earnings ($ million)\", \"earnings-range\"]]\n",
    "df_pse.set_index(\"Year\", inplace=True)\n",
    "df_pse.sort_values(by=\"Year\", ascending=False)\n"
   ]
  },
  {
   "cell_type": "code",
   "execution_count": 21,
   "id": "7a9c0d35",
   "metadata": {
    "execution": {
     "iopub.execute_input": "2022-04-05T16:10:02.505145Z",
     "iopub.status.busy": "2022-04-05T16:10:02.495478Z",
     "iopub.status.idle": "2022-04-05T16:10:02.508008Z",
     "shell.execute_reply": "2022-04-05T16:10:02.508528Z",
     "shell.execute_reply.started": "2022-04-05T16:03:55.687897Z"
    },
    "id": "iP-EalEZ_Ew1",
    "outputId": "a8074977-32ea-4d10-dd5a-70188d6260f5",
    "papermill": {
     "duration": 0.062043,
     "end_time": "2022-04-05T16:10:02.508716",
     "exception": false,
     "start_time": "2022-04-05T16:10:02.446673",
     "status": "completed"
    },
    "tags": []
   },
   "outputs": [
    {
     "data": {
      "text/html": [
       "<div>\n",
       "<style scoped>\n",
       "    .dataframe tbody tr th:only-of-type {\n",
       "        vertical-align: middle;\n",
       "    }\n",
       "\n",
       "    .dataframe tbody tr th {\n",
       "        vertical-align: top;\n",
       "    }\n",
       "\n",
       "    .dataframe thead th {\n",
       "        text-align: right;\n",
       "    }\n",
       "</style>\n",
       "<table border=\"1\" class=\"dataframe\">\n",
       "  <thead>\n",
       "    <tr style=\"text-align: right;\">\n",
       "      <th></th>\n",
       "      <th>Name</th>\n",
       "      <th>Sport</th>\n",
       "      <th>earnings ($ million)</th>\n",
       "      <th>earnings-range</th>\n",
       "    </tr>\n",
       "    <tr>\n",
       "      <th>Year</th>\n",
       "      <th></th>\n",
       "      <th></th>\n",
       "      <th></th>\n",
       "      <th></th>\n",
       "    </tr>\n",
       "  </thead>\n",
       "  <tbody>\n",
       "    <tr>\n",
       "      <th>2015</th>\n",
       "      <td>Floyd Mayweather</td>\n",
       "      <td>Boxing</td>\n",
       "      <td>300.0</td>\n",
       "      <td>Muy Alto</td>\n",
       "    </tr>\n",
       "    <tr>\n",
       "      <th>2018</th>\n",
       "      <td>Floyd Mayweather</td>\n",
       "      <td>Boxing</td>\n",
       "      <td>285.0</td>\n",
       "      <td>Muy Alto</td>\n",
       "    </tr>\n",
       "    <tr>\n",
       "      <th>2019</th>\n",
       "      <td>Lionel Messi</td>\n",
       "      <td>Soccer</td>\n",
       "      <td>127.0</td>\n",
       "      <td>Muy Alto</td>\n",
       "    </tr>\n",
       "    <tr>\n",
       "      <th>2008</th>\n",
       "      <td>Tiger Woods</td>\n",
       "      <td>Golf</td>\n",
       "      <td>115.0</td>\n",
       "      <td>Muy Alto</td>\n",
       "    </tr>\n",
       "    <tr>\n",
       "      <th>2009</th>\n",
       "      <td>Tiger Woods</td>\n",
       "      <td>Golf</td>\n",
       "      <td>110.0</td>\n",
       "      <td>Muy Alto</td>\n",
       "    </tr>\n",
       "  </tbody>\n",
       "</table>\n",
       "</div>"
      ],
      "text/plain": [
       "                  Name   Sport  earnings ($ million) earnings-range\n",
       "Year                                                               \n",
       "2015  Floyd Mayweather  Boxing                 300.0       Muy Alto\n",
       "2018  Floyd Mayweather  Boxing                 285.0       Muy Alto\n",
       "2019      Lionel Messi  Soccer                 127.0       Muy Alto\n",
       "2008       Tiger Woods    Golf                 115.0       Muy Alto\n",
       "2009       Tiger Woods    Golf                 110.0       Muy Alto"
      ]
     },
     "execution_count": 21,
     "metadata": {},
     "output_type": "execute_result"
    }
   ],
   "source": [
    "# top 5 de atletas con más ganancias en un solo año\n",
    "df_pse.sort_values(by=\"earnings ($ million)\", ascending=False).head()"
   ]
  },
  {
   "cell_type": "markdown",
   "id": "dccd666e",
   "metadata": {
    "id": "c0GD1nszdLvb",
    "papermill": {
     "duration": 0.046768,
     "end_time": "2022-04-05T16:10:02.602094",
     "exception": false,
     "start_time": "2022-04-05T16:10:02.555326",
     "status": "completed"
    },
    "tags": []
   },
   "source": [
    "Notamos que:\n",
    "* Entre 2002 y 2011 el Golf fué el deporte que más pagó a los atletas\n",
    "* En la decada de los 90's el Basketball lideró las cifras\n",
    "* Entre 2012 y 2020 Floyd Mayweather estuvo más presenta\n",
    "* Floyd Mayweatherfué el atleta que más gano en todos los tiempos\n",
    "* Hay una relación entre lo que ganan y los años, menor el año menor la cifra o el rango"
   ]
  },
  {
   "cell_type": "code",
   "execution_count": 22,
   "id": "0265f3f2",
   "metadata": {
    "execution": {
     "iopub.execute_input": "2022-04-05T16:10:02.700060Z",
     "iopub.status.busy": "2022-04-05T16:10:02.699049Z",
     "iopub.status.idle": "2022-04-05T16:10:03.637114Z",
     "shell.execute_reply": "2022-04-05T16:10:03.637659Z",
     "shell.execute_reply.started": "2022-04-05T16:03:55.708290Z"
    },
    "id": "BCl0DhDPTSdd",
    "outputId": "471c3df5-c94f-4ddf-f8d4-06f8410aa08b",
    "papermill": {
     "duration": 0.988921,
     "end_time": "2022-04-05T16:10:03.637845",
     "exception": false,
     "start_time": "2022-04-05T16:10:02.648924",
     "status": "completed"
    },
    "tags": []
   },
   "outputs": [
    {
     "data": {
      "text/plain": [
       "<matplotlib.legend.Legend at 0x7f2d36457710>"
      ]
     },
     "execution_count": 22,
     "metadata": {},
     "output_type": "execute_result"
    },
    {
     "data": {
      "image/png": "[encoded data removed]",
      "text/plain": [
       "<Figure size 360x864 with 1 Axes>"
      ]
     },
     "metadata": {
      "needs_background": "light"
     },
     "output_type": "display_data"
    }
   ],
   "source": [
    "# Esto da una idea de la cantidad paga a medida del tiempo\n",
    "plt.figure(figsize=(5,12))\n",
    "ax = sns.scatterplot(data=df, x=\"Year\", y=\"earnings ($ million)\", hue=\"Sport\", style=\"earnings-range\", palette=\"tab10\")\n",
    "ax.legend(loc=\"best\", bbox_to_anchor=(1.05, 1))\n"
   ]
  },
  {
   "cell_type": "markdown",
   "id": "0405d2a2",
   "metadata": {
    "id": "llIi5lvifgKQ",
    "papermill": {
     "duration": 0.05008,
     "end_time": "2022-04-05T16:10:03.737185",
     "exception": false,
     "start_time": "2022-04-05T16:10:03.687105",
     "status": "completed"
    },
    "tags": []
   },
   "source": [
    "Se observa que:\n",
    "* Lo ganado por lo atletas aumenta a lo largo de los años en función de sus deportes en relación directa\n",
    "* A lo largo de los años los deportes han ido aumentando\n",
    "** Con el aumento de deportes aumentan la cantidad que ganan los atletas\n",
    "* Los deportes clásicos hoy en día son los que más pagan"
   ]
  },
  {
   "cell_type": "markdown",
   "id": "c1f839fe",
   "metadata": {
    "id": "JDPtlgri5gGw",
    "papermill": {
     "duration": 0.048445,
     "end_time": "2022-04-05T16:10:03.834896",
     "exception": false,
     "start_time": "2022-04-05T16:10:03.786451",
     "status": "completed"
    },
    "tags": []
   },
   "source": [
    "## Preguntas\n",
    "1. ¿Quién es la persona que más dinero ganó en un año?\n",
    "\n",
    "Fue **Floyd Mayweather** en el año **2015** con el deporte del **Boxing**\n",
    "2. ¿Cuál es el deporte que más se repite dentro de la lista?\n",
    "\n",
    "El deporte que más se repite en la lista es el **Basketball**\n",
    "3. ¿Cuál es el deporte donde más dinero se gana?\n",
    "\n",
    "Si hablamos a lo largo del tiempo, el deporte donde más dinero se gana es el **Basketbal** con **3433.3** millones de dolares en total solo en **USA**, el único país que tiene este deporte en la lista desde **1990** hasta **2020**.\n",
    "\n",
    "Ahora bien, si hablamos del promedio, el **MMA** se lleva el primer puesto, aunque solo hay una persona en la lista con ese deporte.\n",
    "\n",
    "Los demás deportes, algunos, dan mucho dinero pero solo a una persona y en pocos años.\n",
    "\n",
    "4. Incluya una pregunta creada por usted.\n",
    "\n",
    "* ¿Quién es el atleta que más se repite en la lista del primer lugar a lo largo de los años?\n",
    "\n",
    "* * Es **Tiger Woodscon** con 10 años consecutivos en el deporte del **Golf** desde **2002** hasta el **2011**\n",
    "\n"
   ]
  },
  {
   "cell_type": "markdown",
   "id": "4d22dbc2",
   "metadata": {
    "id": "EkQxtoRnGdjj",
    "papermill": {
     "duration": 0.048781,
     "end_time": "2022-04-05T16:10:03.933723",
     "exception": false,
     "start_time": "2022-04-05T16:10:03.884942",
     "status": "completed"
    },
    "tags": []
   },
   "source": [
    "## Conclusiones\n",
    "\n",
    "Gracias a las herramientas de análisis de datos podemos ver datos interesantes y relacionarlos, visualizarlos en gráficos y facilitar la exploración.\n",
    "La información se está tomando el mundo y cada vez más necesitaremos del análisis estadístico para predecir y mejorar las condiciones de vida. A su vez, esta área acerca cada vez más a las personas al mundo de la programaición, haciendo de la tecnología un desarrollo que crece con nosotros.\n",
    "\n",
    "De los datos podemos concuir que:\n",
    "* Estados Unidos es el único país donde un deporte gana una posición económica en el deporte, siendo este el Basketball y con el jugador que más se repite Michael Jordan.\n",
    "* El Basketball en Estados Unidos es el deporte más pagado del mundo con una suma de \\$3433.3 M., sigue el Golf con \\$2078 M. y el Boxing con \\$1890 M. Siendo Estados Unidos el país que más ha pagado a sus atletas en los deportes más pagados de la historia desde 1990.\n",
    "* Estados Unidos es el único país de America que se posiciona cómo uno de los 5 primeros que más atletas han ganado en la historia, por otra parte está Europa. America Latina le sigue en posiciones posteriores a los 5 primeros, con Argentina y Brasil.\n",
    "* El Boxing y el Golf le siguen al Basketball en deportes que mejor le han pagado a sus atletas, el Golf con su exponente Tiger Woodscon que tiene una racha de 10 años consecutivos como primer lugar y Floyd Mayweather en el Boxing.\n",
    "* Floyd Mayweather es la persona que más ha ganado en la historia desde 1990 con una suma de $300 M.\n",
    "* Hay una relación directa entre el año y la cantidad pagada a los atletas. Mientras más antiguo el año, menor el pago y viceversa.\n",
    "* En los años anteriores, el Basketball lideraba las cifras, siendo en los años posteriores una variedad de deportes.\n",
    "* Existe una relación entre el deporte, el año y la cantidad. En años anteriores los deportes pagaban menos y eran unos pocos, como el Basketball, en años posteriores son más deportes que pagan más, como el Auto Racing, MMA, etc.\n",
    "* Los deportes clásicos son los que más pagan hoy en día como el Boxing.\n"
   ]
  }
 ],
 "metadata": {
  "kernelspec": {
   "display_name": "Python 3",
   "language": "python",
   "name": "python3"
  },
  "language_info": {
   "codemirror_mode": {
    "name": "ipython",
    "version": 3
   },
   "file_extension": ".py",
   "mimetype": "text/x-python",
   "name": "python",
   "nbconvert_exporter": "python",
   "pygments_lexer": "ipython3",
   "version": "3.7.12"
  },
  "papermill": {
   "default_parameters": {},
   "duration": 17.641323,
   "end_time": "2022-04-05T16:10:04.693728",
   "environment_variables": {},
   "exception": null,
   "input_path": "__notebook__.ipynb",
   "output_path": "__notebook__.ipynb",
   "parameters": {},
   "start_time": "2022-04-05T16:09:47.052405",
   "version": "2.3.3"
  }
 },
 "nbformat": 4,
 "nbformat_minor": 5
}
